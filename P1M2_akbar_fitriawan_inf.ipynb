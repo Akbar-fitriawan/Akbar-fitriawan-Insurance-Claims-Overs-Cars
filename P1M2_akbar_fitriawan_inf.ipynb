{
 "cells": [
  {
   "cell_type": "markdown",
   "metadata": {},
   "source": [
    "# Import Libraries"
   ]
  },
  {
   "cell_type": "code",
   "execution_count": 2,
   "metadata": {},
   "outputs": [],
   "source": [
    "# library dataframe\n",
    "import pandas as pd\n",
    "# library olah data numerical\n",
    "import numpy as np\n",
    "\n",
    "# Save model\n",
    "import pickle\n",
    "# import joblib\n",
    "import json\n",
    "\n",
    "\n",
    "# Library to suppress warnings or deprecation notes\n",
    "import warnings\n",
    "warnings.filterwarnings('ignore')"
   ]
  },
  {
   "cell_type": "markdown",
   "metadata": {},
   "source": [
    "# Data inference"
   ]
  },
  {
   "cell_type": "markdown",
   "metadata": {},
   "source": [
    "Buat data dari Car insurance"
   ]
  },
  {
   "cell_type": "code",
   "execution_count": 7,
   "metadata": {},
   "outputs": [
    {
     "data": {
      "text/html": [
       "<div>\n",
       "<style scoped>\n",
       "    .dataframe tbody tr th:only-of-type {\n",
       "        vertical-align: middle;\n",
       "    }\n",
       "\n",
       "    .dataframe tbody tr th {\n",
       "        vertical-align: top;\n",
       "    }\n",
       "\n",
       "    .dataframe thead th {\n",
       "        text-align: right;\n",
       "    }\n",
       "</style>\n",
       "<table border=\"1\" class=\"dataframe\">\n",
       "  <thead>\n",
       "    <tr style=\"text-align: right;\">\n",
       "      <th></th>\n",
       "      <th>AGE</th>\n",
       "      <th>GENDER</th>\n",
       "      <th>RACE</th>\n",
       "      <th>DRIVING_EXPERIENCE</th>\n",
       "      <th>EDUCATION</th>\n",
       "      <th>INCOME</th>\n",
       "      <th>CREDIT_SCORE</th>\n",
       "      <th>VEHICLE_OWNERSHIP</th>\n",
       "      <th>VEHICLE_YEAR</th>\n",
       "      <th>MARRIED</th>\n",
       "      <th>CHILDREN</th>\n",
       "      <th>ANNUAL_MILEAGE</th>\n",
       "      <th>VEHICLE_TYPE</th>\n",
       "      <th>SPEEDING_VIOLATIONS</th>\n",
       "      <th>DUIS</th>\n",
       "      <th>PAST_ACCIDENTS</th>\n",
       "      <th>CITY</th>\n",
       "    </tr>\n",
       "  </thead>\n",
       "  <tbody>\n",
       "    <tr>\n",
       "      <th>0</th>\n",
       "      <td>middle age</td>\n",
       "      <td>female</td>\n",
       "      <td>majority</td>\n",
       "      <td>newbie</td>\n",
       "      <td>none</td>\n",
       "      <td>upper class</td>\n",
       "      <td>0.125983</td>\n",
       "      <td>1</td>\n",
       "      <td>before 2015</td>\n",
       "      <td>0</td>\n",
       "      <td>1</td>\n",
       "      <td>17661</td>\n",
       "      <td>sedan</td>\n",
       "      <td>10</td>\n",
       "      <td>10</td>\n",
       "      <td>7</td>\n",
       "      <td>san diego</td>\n",
       "    </tr>\n",
       "    <tr>\n",
       "      <th>1</th>\n",
       "      <td>very old</td>\n",
       "      <td>female</td>\n",
       "      <td>minority</td>\n",
       "      <td>newbie</td>\n",
       "      <td>university</td>\n",
       "      <td>poverty</td>\n",
       "      <td>7.150248</td>\n",
       "      <td>1</td>\n",
       "      <td>before 2015</td>\n",
       "      <td>0</td>\n",
       "      <td>1</td>\n",
       "      <td>5949</td>\n",
       "      <td>sport car</td>\n",
       "      <td>11</td>\n",
       "      <td>0</td>\n",
       "      <td>9</td>\n",
       "      <td>orlando</td>\n",
       "    </tr>\n",
       "    <tr>\n",
       "      <th>2</th>\n",
       "      <td>middle age</td>\n",
       "      <td>male</td>\n",
       "      <td>minority</td>\n",
       "      <td>advanced</td>\n",
       "      <td>high school</td>\n",
       "      <td>upper class</td>\n",
       "      <td>3.983651</td>\n",
       "      <td>0</td>\n",
       "      <td>before 2015</td>\n",
       "      <td>1</td>\n",
       "      <td>0</td>\n",
       "      <td>17253</td>\n",
       "      <td>sedan</td>\n",
       "      <td>8</td>\n",
       "      <td>1</td>\n",
       "      <td>8</td>\n",
       "      <td>orlando</td>\n",
       "    </tr>\n",
       "    <tr>\n",
       "      <th>3</th>\n",
       "      <td>old</td>\n",
       "      <td>female</td>\n",
       "      <td>majority</td>\n",
       "      <td>newbie</td>\n",
       "      <td>none</td>\n",
       "      <td>working class</td>\n",
       "      <td>3.442613</td>\n",
       "      <td>0</td>\n",
       "      <td>before 2015</td>\n",
       "      <td>1</td>\n",
       "      <td>1</td>\n",
       "      <td>4587</td>\n",
       "      <td>sedan</td>\n",
       "      <td>0</td>\n",
       "      <td>2</td>\n",
       "      <td>11</td>\n",
       "      <td>baltimore</td>\n",
       "    </tr>\n",
       "    <tr>\n",
       "      <th>4</th>\n",
       "      <td>young</td>\n",
       "      <td>male</td>\n",
       "      <td>minority</td>\n",
       "      <td>advanced</td>\n",
       "      <td>none</td>\n",
       "      <td>upper class</td>\n",
       "      <td>0.098821</td>\n",
       "      <td>1</td>\n",
       "      <td>before 2015</td>\n",
       "      <td>0</td>\n",
       "      <td>0</td>\n",
       "      <td>12276</td>\n",
       "      <td>sedan</td>\n",
       "      <td>10</td>\n",
       "      <td>13</td>\n",
       "      <td>3</td>\n",
       "      <td>baltimore</td>\n",
       "    </tr>\n",
       "    <tr>\n",
       "      <th>5</th>\n",
       "      <td>young</td>\n",
       "      <td>male</td>\n",
       "      <td>minority</td>\n",
       "      <td>amateure</td>\n",
       "      <td>university</td>\n",
       "      <td>working class</td>\n",
       "      <td>1.775855</td>\n",
       "      <td>0</td>\n",
       "      <td>before 2015</td>\n",
       "      <td>1</td>\n",
       "      <td>1</td>\n",
       "      <td>13965</td>\n",
       "      <td>sport car</td>\n",
       "      <td>1</td>\n",
       "      <td>1</td>\n",
       "      <td>12</td>\n",
       "      <td>orlando</td>\n",
       "    </tr>\n",
       "  </tbody>\n",
       "</table>\n",
       "</div>"
      ],
      "text/plain": [
       "          AGE  GENDER      RACE DRIVING_EXPERIENCE    EDUCATION  \\\n",
       "0  middle age  female  majority             newbie         none   \n",
       "1    very old  female  minority             newbie   university   \n",
       "2  middle age    male  minority           advanced  high school   \n",
       "3         old  female  majority             newbie         none   \n",
       "4       young    male  minority           advanced         none   \n",
       "5       young    male  minority           amateure   university   \n",
       "\n",
       "          INCOME  CREDIT_SCORE  VEHICLE_OWNERSHIP VEHICLE_YEAR  MARRIED  \\\n",
       "0    upper class      0.125983                  1  before 2015        0   \n",
       "1        poverty      7.150248                  1  before 2015        0   \n",
       "2    upper class      3.983651                  0  before 2015        1   \n",
       "3  working class      3.442613                  0  before 2015        1   \n",
       "4    upper class      0.098821                  1  before 2015        0   \n",
       "5  working class      1.775855                  0  before 2015        1   \n",
       "\n",
       "   CHILDREN  ANNUAL_MILEAGE VEHICLE_TYPE  SPEEDING_VIOLATIONS  DUIS  \\\n",
       "0         1           17661        sedan                   10    10   \n",
       "1         1            5949    sport car                   11     0   \n",
       "2         0           17253        sedan                    8     1   \n",
       "3         1            4587        sedan                    0     2   \n",
       "4         0           12276        sedan                   10    13   \n",
       "5         1           13965    sport car                    1     1   \n",
       "\n",
       "   PAST_ACCIDENTS       CITY  \n",
       "0               7  san diego  \n",
       "1               9    orlando  \n",
       "2               8    orlando  \n",
       "3              11  baltimore  \n",
       "4               3  baltimore  \n",
       "5              12    orlando  "
      ]
     },
     "execution_count": 7,
     "metadata": {},
     "output_type": "execute_result"
    }
   ],
   "source": [
    "data = [\n",
    "    {\n",
    "        'AGE': np.random.choice(['young', 'middle age', 'old','very old']),\n",
    "        'GENDER':np.random.choice(['male','female']),\n",
    "        'RACE': np.random.choice(['majority', 'minority']),\n",
    "        'DRIVING_EXPERIENCE': np.random.choice(['newbie', 'amateure', 'advanced', 'expert']),\n",
    "        'EDUCATION': np.random.choice(['high school','none', 'university']),\n",
    "        'INCOME': np.random.choice(['upper class', 'poverty', 'working class', 'middle class']),\n",
    "        'CREDIT_SCORE': np.random.uniform(0,10),\n",
    "        'VEHICLE_OWNERSHIP': np.random.choice([0, 1]),\n",
    "        'VEHICLE_YEAR': np.random.choice(['before 2015', 'after 2015']),\n",
    "        'MARRIED': np.random.choice([0,1]),\n",
    "        'CHILDREN': np.random.choice([0,1]),\n",
    "        'ANNUAL_MILEAGE':np.random.randint(1000, 25000),\n",
    "        'VEHICLE_TYPE':np.random.choice(['sedan', 'sport car']),\n",
    "        'SPEEDING_VIOLATIONS': np.random.randint(0,15),\n",
    "        'DUIS': np.random.randint(0,15),\n",
    "        'PAST_ACCIDENTS': np.random.randint(0,15),\n",
    "        'CITY': np.random.choice(['baltimore','new York','orlando','san diego']),\n",
    "    } for i in range(6) \n",
    "]\n",
    "\n",
    "data = pd.DataFrame(data)\n",
    "data"
   ]
  },
  {
   "cell_type": "markdown",
   "metadata": {},
   "source": [
    "# Load model dan utilities"
   ]
  },
  {
   "cell_type": "code",
   "execution_count": 8,
   "metadata": {},
   "outputs": [],
   "source": [
    "# Load model and other files\n",
    "\n",
    "\n",
    "with open(\"model/model.pkl\", \"rb\") as model_file:\n",
    "  model = pickle.load(model_file)\n"
   ]
  },
  {
   "cell_type": "markdown",
   "metadata": {},
   "source": [
    "# Prediction"
   ]
  },
  {
   "cell_type": "code",
   "execution_count": 9,
   "metadata": {},
   "outputs": [
    {
     "data": {
      "text/plain": [
       "array([1, 0, 0, 1, 1, 1])"
      ]
     },
     "execution_count": 9,
     "metadata": {},
     "output_type": "execute_result"
    }
   ],
   "source": [
    "ranfo_prediction = model.predict(data)\n",
    "ranfo_prediction"
   ]
  },
  {
   "cell_type": "code",
   "execution_count": 11,
   "metadata": {},
   "outputs": [
    {
     "data": {
      "text/plain": [
       "1"
      ]
     },
     "execution_count": 11,
     "metadata": {},
     "output_type": "execute_result"
    }
   ],
   "source": [
    "ranfo_prediction[0]"
   ]
  }
 ],
 "metadata": {
  "kernelspec": {
   "display_name": "base",
   "language": "python",
   "name": "python3"
  },
  "language_info": {
   "codemirror_mode": {
    "name": "ipython",
    "version": 3
   },
   "file_extension": ".py",
   "mimetype": "text/x-python",
   "name": "python",
   "nbconvert_exporter": "python",
   "pygments_lexer": "ipython3",
   "version": "3.12.1"
  }
 },
 "nbformat": 4,
 "nbformat_minor": 2
}
